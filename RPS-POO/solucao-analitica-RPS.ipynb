{
 "cells": [
  {
   "cell_type": "code",
   "execution_count": 1,
   "id": "78cdebd7",
   "metadata": {},
   "outputs": [],
   "source": [
    "import sympy as smp"
   ]
  },
  {
   "cell_type": "code",
   "execution_count": null,
   "id": "d9d87629",
   "metadata": {},
   "outputs": [],
   "source": [
    "t = smp.symbols('t', real=True)\n",
    "fO = smp.Function('fO')(t)\n",
    "fY = smp.Function('fY')(t)\n",
    "fB = 1 - fO - fY\n",
    "\n",
    "b = smp.symbols('b', real =True)\n",
    "c = smp.symbols('c', real =True)\n",
    "\n",
    "payoff_matrix = smp.Matrix([[1, b-c, b], # O\n",
    "                            [b, 1, b-c], # Y\n",
    "                            [b-c, b, 1]]) # B\n",
    "\n",
    "\n",
    "fitness_O = fO * payoff_matrix[0, 0] + fY * payoff_matrix[0, 1] + fB * payoff_matrix[0, 2]\n",
    "fitness_Y = fO * payoff_matrix[1, 0] + fY * payoff_matrix[1, 1] + fB * payoff_matrix[1, 2]\n",
    "fitness_B = fO * payoff_matrix[2, 0] + fY * payoff_matrix[2, 1] + fB * payoff_matrix[2, 2]\n",
    "\n",
    "media_fitness = fO * fitness_O + fY * fitness_Y + fB * fitness_B\n",
    "\n",
    "dfOdt = fO * (fitness_O - media_fitness)\n",
    "dfYdt = fY * (fitness_Y - media_fitness)\n",
    "dfBdt = fB * (fitness_B - media_fitness)\n",
    "\n",
    "smp.solve([smp.Eq(dfOdt, 0), smp.Eq(dfYdt, 0), smp.Eq(dfBdt, 0)], (fO, fY, fB))\n"
   ]
  }
 ],
 "metadata": {
  "kernelspec": {
   "display_name": "base",
   "language": "python",
   "name": "python3"
  },
  "language_info": {
   "codemirror_mode": {
    "name": "ipython",
    "version": 3
   },
   "file_extension": ".py",
   "mimetype": "text/x-python",
   "name": "python",
   "nbconvert_exporter": "python",
   "pygments_lexer": "ipython3",
   "version": "3.12.3"
  }
 },
 "nbformat": 4,
 "nbformat_minor": 5
}
